{
 "cells": [
  {
   "cell_type": "code",
   "execution_count": 1,
   "metadata": {},
   "outputs": [],
   "source": [
    "edges = []\n",
    "n =[]\n",
    "#we import data that we need and we fill them \n",
    "with open(\"wiki-topcats-reduced.txt\\wiki-topcats-reduced.txt\") as mytxt:\n",
    "    for line in mytxt:\n",
    "        i,j= line.split()\n",
    "        n.extend((int(i),int(j)))\n",
    "        edges.append([int(i),int(j)])"
   ]
  },
  {
   "cell_type": "code",
   "execution_count": 14,
   "metadata": {},
   "outputs": [],
   "source": [
    "cat_dic = {}\n",
    "with open (\"wiki-topcats-categories.txt\")as dc:\n",
    "    for line in dc:\n",
    "        l1 = line.replace(\"Category:\",\"\")\n",
    "        l2 = l1.split(\";\")\n",
    "        k = l2[0]\n",
    "        art = list(map(int,l2[1].split()))\n",
    "        cat_dic[k] = art"
   ]
  }
 ],
 "metadata": {
  "kernelspec": {
   "display_name": "Python 3",
   "language": "python",
   "name": "python3"
  },
  "language_info": {
   "codemirror_mode": {
    "name": "ipython",
    "version": 3
   },
   "file_extension": ".py",
   "mimetype": "text/x-python",
   "name": "python",
   "nbconvert_exporter": "python",
   "pygments_lexer": "ipython3",
   "version": "3.6.5"
  }
 },
 "nbformat": 4,
 "nbformat_minor": 2
}
