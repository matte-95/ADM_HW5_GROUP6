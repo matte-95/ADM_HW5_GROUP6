{
 "cells": [
  {
   "cell_type": "markdown",
   "metadata": {},
   "source": [
    "### Visit the Wikipedia hyperlinks graph!"
   ]
  },
  {
   "cell_type": "code",
   "execution_count": 1,
   "metadata": {},
   "outputs": [],
   "source": [
    "#we create two lists edges and n, one for edges and the last to save al nodes that we find in edges\n",
    "edges = []\n",
    "n =[]\n",
    "#we import data that we need and we fill them \n",
    "with open(\"wiki-topcats-reduced.txt\\wiki-topcats-reduced.txt\") as mytxt:\n",
    "    for line in mytxt:\n",
    "        i,j= line.split()\n",
    "        n.extend((int(i),int(j)))\n",
    "        edges.append([int(i),int(j)])\n",
    "#using set we eliminate duplicates from n and we have a list with the nodes in the graph\n",
    "nodes= set(n)       "
   ]
  },
  {
   "cell_type": "markdown",
   "metadata": {},
   "source": [
    "Since edges are directed, the graph is directed"
   ]
  },
  {
   "cell_type": "code",
   "execution_count": 2,
   "metadata": {},
   "outputs": [
    {
     "name": "stdout",
     "output_type": "stream",
     "text": [
      "461193\n"
     ]
    }
   ],
   "source": [
    "print(len(nodes))"
   ]
  },
  {
   "cell_type": "markdown",
   "metadata": {},
   "source": [
    "As we can see above the total number of nodes is 461193"
   ]
  },
  {
   "cell_type": "code",
   "execution_count": 3,
   "metadata": {},
   "outputs": [
    {
     "name": "stdout",
     "output_type": "stream",
     "text": [
      "2645247\n"
     ]
    }
   ],
   "source": [
    "print(len(edges))"
   ]
  },
  {
   "cell_type": "markdown",
   "metadata": {},
   "source": [
    "Instead 2645247 is the total number of edges"
   ]
  },
  {
   "cell_type": "code",
   "execution_count": 4,
   "metadata": {},
   "outputs": [
    {
     "name": "stdout",
     "output_type": "stream",
     "text": [
      "11.47\n"
     ]
    }
   ],
   "source": [
    "#here we create a dictionary with nodes as keys and degree as attribute, at the begging we set value = for each node\n",
    "dic_nodes = {key:0 for key in nodes}\n",
    "\n",
    "#We calculate nodes degree here,considering our list of edges\n",
    "for e in edges:\n",
    "    dic_nodes[e[0]]= dic_nodes[e[0]]+1\n",
    "    dic_nodes[e[1]]= dic_nodes[e[1]]+1\n",
    "\n",
    "#we calulate the sum of degrees of all nodes\n",
    "d_sum =0\n",
    "for k in dic_nodes.keys():\n",
    "    d_sum += dic_nodes[k]\n",
    "#finally we have the average node deggre\n",
    "avg_d = d_sum/len(nodes)\n",
    "#printing it\n",
    "print(round(avg_d,2))"
   ]
  },
  {
   "cell_type": "markdown",
   "metadata": {},
   "source": [
    "Finally we can say that the average node degree is 11.47, considering the number of nodes this very sparse graph since the maximum number of edges is 461193*461192 = 212698522056"
   ]
  }
 ],
 "metadata": {
  "kernelspec": {
   "display_name": "Python 3",
   "language": "python",
   "name": "python3"
  },
  "language_info": {
   "codemirror_mode": {
    "name": "ipython",
    "version": 3
   },
   "file_extension": ".py",
   "mimetype": "text/x-python",
   "name": "python",
   "nbconvert_exporter": "python",
   "pygments_lexer": "ipython3",
   "version": "3.6.5"
  }
 },
 "nbformat": 4,
 "nbformat_minor": 2
}
